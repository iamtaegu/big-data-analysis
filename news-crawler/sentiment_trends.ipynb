{
 "cells": [
  {
   "cell_type": "markdown",
   "metadata": {},
   "source": [
    "## Sentiment Trends\n"
   ]
  },
  {
   "cell_type": "markdown",
   "metadata": {},
   "source": [
    "### 이재훈 (20224071)"
   ]
  },
  {
   "cell_type": "code",
   "execution_count": 24,
   "metadata": {},
   "outputs": [],
   "source": [
    "import json\n",
    "import requests\n",
    "import pandas as pd \n",
    "import matplotlib.pyplot as plt\n",
    "\n",
    "from config import *"
   ]
  },
  {
   "cell_type": "code",
   "execution_count": 25,
   "metadata": {},
   "outputs": [],
   "source": [
    "query = {\n",
    "  \"size\": 0,\n",
    "  \"aggs\": {\n",
    "    \"group_by_date\": {\n",
    "      \"date_histogram\": {\n",
    "        \"field\": \"created_at\",\n",
    "        \"interval\": \"day\"\n",
    "      },\n",
    "      \"aggs\": {\n",
    "        \"group_by_sentiment\": {\n",
    "          \"terms\": {\n",
    "            \"field\": \"sentiment.keyword\"\n",
    "          }\n",
    "        }\n",
    "      }\n",
    "    }\n",
    "  }\n",
    "}"
   ]
  },
  {
   "cell_type": "code",
   "execution_count": 26,
   "metadata": {},
   "outputs": [],
   "source": [
    "# dict to json \n",
    "query = json.dumps(query)"
   ]
  },
  {
   "cell_type": "code",
   "execution_count": 27,
   "metadata": {},
   "outputs": [],
   "source": [
    "headers = {\n",
    "    'Content-Type': 'application/json'\n",
    "}"
   ]
  },
  {
   "cell_type": "code",
   "execution_count": 28,
   "metadata": {},
   "outputs": [],
   "source": [
    "resp = requests.get(\n",
    "    f\"{ELASTICSEARCH_URL}/news/_search\",\n",
    "    headers=headers,\n",
    "    data = query,\n",
    "    auth = ELASTICSEARCH_AUTH,\n",
    ")"
   ]
  },
  {
   "cell_type": "code",
   "execution_count": 29,
   "metadata": {},
   "outputs": [
    {
     "data": {
      "text/plain": [
       "200"
      ]
     },
     "execution_count": 29,
     "metadata": {},
     "output_type": "execute_result"
    }
   ],
   "source": [
    "resp.status_code"
   ]
  },
  {
   "cell_type": "code",
   "execution_count": 30,
   "metadata": {},
   "outputs": [],
   "source": [
    "results = resp.json()"
   ]
  },
  {
   "cell_type": "code",
   "execution_count": 31,
   "metadata": {},
   "outputs": [],
   "source": [
    "buckets = results['aggregations']['group_by_date']['buckets']"
   ]
  },
  {
   "cell_type": "code",
   "execution_count": 32,
   "metadata": {},
   "outputs": [
    {
     "data": {
      "text/plain": [
       "[{'key_as_string': '2023-08-01T00:00:00.000Z',\n",
       "  'key': 1690848000000,\n",
       "  'doc_count': 5549,\n",
       "  'group_by_sentiment': {'doc_count_error_upper_bound': 0,\n",
       "   'sum_other_doc_count': 0,\n",
       "   'buckets': []}},\n",
       " {'key_as_string': '2023-08-02T00:00:00.000Z',\n",
       "  'key': 1690934400000,\n",
       "  'doc_count': 5710,\n",
       "  'group_by_sentiment': {'doc_count_error_upper_bound': 0,\n",
       "   'sum_other_doc_count': 0,\n",
       "   'buckets': []}},\n",
       " {'key_as_string': '2023-08-03T00:00:00.000Z',\n",
       "  'key': 1691020800000,\n",
       "  'doc_count': 5288,\n",
       "  'group_by_sentiment': {'doc_count_error_upper_bound': 0,\n",
       "   'sum_other_doc_count': 0,\n",
       "   'buckets': []}},\n",
       " {'key_as_string': '2023-08-04T00:00:00.000Z',\n",
       "  'key': 1691107200000,\n",
       "  'doc_count': 3774,\n",
       "  'group_by_sentiment': {'doc_count_error_upper_bound': 0,\n",
       "   'sum_other_doc_count': 0,\n",
       "   'buckets': []}},\n",
       " {'key_as_string': '2023-08-05T00:00:00.000Z',\n",
       "  'key': 1691193600000,\n",
       "  'doc_count': 680,\n",
       "  'group_by_sentiment': {'doc_count_error_upper_bound': 0,\n",
       "   'sum_other_doc_count': 0,\n",
       "   'buckets': []}},\n",
       " {'key_as_string': '2023-08-06T00:00:00.000Z',\n",
       "  'key': 1691280000000,\n",
       "  'doc_count': 1939,\n",
       "  'group_by_sentiment': {'doc_count_error_upper_bound': 0,\n",
       "   'sum_other_doc_count': 0,\n",
       "   'buckets': []}},\n",
       " {'key_as_string': '2023-08-07T00:00:00.000Z',\n",
       "  'key': 1691366400000,\n",
       "  'doc_count': 5402,\n",
       "  'group_by_sentiment': {'doc_count_error_upper_bound': 0,\n",
       "   'sum_other_doc_count': 0,\n",
       "   'buckets': [{'key': 'neutral', 'doc_count': 410},\n",
       "    {'key': 'positive', 'doc_count': 163},\n",
       "    {'key': 'negative', 'doc_count': 49}]}},\n",
       " {'key_as_string': '2023-08-08T00:00:00.000Z',\n",
       "  'key': 1691452800000,\n",
       "  'doc_count': 5608,\n",
       "  'group_by_sentiment': {'doc_count_error_upper_bound': 0,\n",
       "   'sum_other_doc_count': 0,\n",
       "   'buckets': [{'key': 'neutral', 'doc_count': 2}]}},\n",
       " {'key_as_string': '2023-08-09T00:00:00.000Z',\n",
       "  'key': 1691539200000,\n",
       "  'doc_count': 5866,\n",
       "  'group_by_sentiment': {'doc_count_error_upper_bound': 0,\n",
       "   'sum_other_doc_count': 0,\n",
       "   'buckets': []}},\n",
       " {'key_as_string': '2023-08-10T00:00:00.000Z',\n",
       "  'key': 1691625600000,\n",
       "  'doc_count': 5492,\n",
       "  'group_by_sentiment': {'doc_count_error_upper_bound': 0,\n",
       "   'sum_other_doc_count': 0,\n",
       "   'buckets': []}},\n",
       " {'key_as_string': '2023-08-11T00:00:00.000Z',\n",
       "  'key': 1691712000000,\n",
       "  'doc_count': 4385,\n",
       "  'group_by_sentiment': {'doc_count_error_upper_bound': 0,\n",
       "   'sum_other_doc_count': 0,\n",
       "   'buckets': []}},\n",
       " {'key_as_string': '2023-08-12T00:00:00.000Z',\n",
       "  'key': 1691798400000,\n",
       "  'doc_count': 686,\n",
       "  'group_by_sentiment': {'doc_count_error_upper_bound': 0,\n",
       "   'sum_other_doc_count': 0,\n",
       "   'buckets': []}},\n",
       " {'key_as_string': '2023-08-13T00:00:00.000Z',\n",
       "  'key': 1691884800000,\n",
       "  'doc_count': 1849,\n",
       "  'group_by_sentiment': {'doc_count_error_upper_bound': 0,\n",
       "   'sum_other_doc_count': 0,\n",
       "   'buckets': []}},\n",
       " {'key_as_string': '2023-08-14T00:00:00.000Z',\n",
       "  'key': 1691971200000,\n",
       "  'doc_count': 4955,\n",
       "  'group_by_sentiment': {'doc_count_error_upper_bound': 0,\n",
       "   'sum_other_doc_count': 0,\n",
       "   'buckets': []}},\n",
       " {'key_as_string': '2023-08-15T00:00:00.000Z',\n",
       "  'key': 1692057600000,\n",
       "  'doc_count': 1946,\n",
       "  'group_by_sentiment': {'doc_count_error_upper_bound': 0,\n",
       "   'sum_other_doc_count': 0,\n",
       "   'buckets': []}},\n",
       " {'key_as_string': '2023-08-16T00:00:00.000Z',\n",
       "  'key': 1692144000000,\n",
       "  'doc_count': 6042,\n",
       "  'group_by_sentiment': {'doc_count_error_upper_bound': 0,\n",
       "   'sum_other_doc_count': 0,\n",
       "   'buckets': []}},\n",
       " {'key_as_string': '2023-08-17T00:00:00.000Z',\n",
       "  'key': 1692230400000,\n",
       "  'doc_count': 5785,\n",
       "  'group_by_sentiment': {'doc_count_error_upper_bound': 0,\n",
       "   'sum_other_doc_count': 0,\n",
       "   'buckets': []}},\n",
       " {'key_as_string': '2023-08-18T00:00:00.000Z',\n",
       "  'key': 1692316800000,\n",
       "  'doc_count': 3908,\n",
       "  'group_by_sentiment': {'doc_count_error_upper_bound': 0,\n",
       "   'sum_other_doc_count': 0,\n",
       "   'buckets': []}},\n",
       " {'key_as_string': '2023-08-19T00:00:00.000Z',\n",
       "  'key': 1692403200000,\n",
       "  'doc_count': 689,\n",
       "  'group_by_sentiment': {'doc_count_error_upper_bound': 0,\n",
       "   'sum_other_doc_count': 0,\n",
       "   'buckets': []}},\n",
       " {'key_as_string': '2023-08-20T00:00:00.000Z',\n",
       "  'key': 1692489600000,\n",
       "  'doc_count': 2078,\n",
       "  'group_by_sentiment': {'doc_count_error_upper_bound': 0,\n",
       "   'sum_other_doc_count': 0,\n",
       "   'buckets': []}},\n",
       " {'key_as_string': '2023-08-21T00:00:00.000Z',\n",
       "  'key': 1692576000000,\n",
       "  'doc_count': 5257,\n",
       "  'group_by_sentiment': {'doc_count_error_upper_bound': 0,\n",
       "   'sum_other_doc_count': 0,\n",
       "   'buckets': []}},\n",
       " {'key_as_string': '2023-08-22T00:00:00.000Z',\n",
       "  'key': 1692662400000,\n",
       "  'doc_count': 5685,\n",
       "  'group_by_sentiment': {'doc_count_error_upper_bound': 0,\n",
       "   'sum_other_doc_count': 0,\n",
       "   'buckets': []}},\n",
       " {'key_as_string': '2023-08-23T00:00:00.000Z',\n",
       "  'key': 1692748800000,\n",
       "  'doc_count': 5812,\n",
       "  'group_by_sentiment': {'doc_count_error_upper_bound': 0,\n",
       "   'sum_other_doc_count': 0,\n",
       "   'buckets': []}},\n",
       " {'key_as_string': '2023-08-24T00:00:00.000Z',\n",
       "  'key': 1692835200000,\n",
       "  'doc_count': 6597,\n",
       "  'group_by_sentiment': {'doc_count_error_upper_bound': 0,\n",
       "   'sum_other_doc_count': 0,\n",
       "   'buckets': []}},\n",
       " {'key_as_string': '2023-08-25T00:00:00.000Z',\n",
       "  'key': 1692921600000,\n",
       "  'doc_count': 3953,\n",
       "  'group_by_sentiment': {'doc_count_error_upper_bound': 0,\n",
       "   'sum_other_doc_count': 0,\n",
       "   'buckets': [{'key': 'neutral', 'doc_count': 118},\n",
       "    {'key': 'positive', 'doc_count': 41},\n",
       "    {'key': 'negative', 'doc_count': 18}]}},\n",
       " {'key_as_string': '2023-08-26T00:00:00.000Z',\n",
       "  'key': 1693008000000,\n",
       "  'doc_count': 762,\n",
       "  'group_by_sentiment': {'doc_count_error_upper_bound': 0,\n",
       "   'sum_other_doc_count': 0,\n",
       "   'buckets': [{'key': 'neutral', 'doc_count': 35},\n",
       "    {'key': 'positive', 'doc_count': 4},\n",
       "    {'key': 'negative', 'doc_count': 2}]}},\n",
       " {'key_as_string': '2023-08-27T00:00:00.000Z',\n",
       "  'key': 1693094400000,\n",
       "  'doc_count': 2267,\n",
       "  'group_by_sentiment': {'doc_count_error_upper_bound': 0,\n",
       "   'sum_other_doc_count': 0,\n",
       "   'buckets': [{'key': 'neutral', 'doc_count': 141},\n",
       "    {'key': 'negative', 'doc_count': 25},\n",
       "    {'key': 'positive', 'doc_count': 19}]}},\n",
       " {'key_as_string': '2023-08-28T00:00:00.000Z',\n",
       "  'key': 1693180800000,\n",
       "  'doc_count': 5334,\n",
       "  'group_by_sentiment': {'doc_count_error_upper_bound': 0,\n",
       "   'sum_other_doc_count': 0,\n",
       "   'buckets': [{'key': 'neutral', 'doc_count': 115},\n",
       "    {'key': 'positive', 'doc_count': 30},\n",
       "    {'key': 'negative', 'doc_count': 21}]}},\n",
       " {'key_as_string': '2023-08-29T00:00:00.000Z',\n",
       "  'key': 1693267200000,\n",
       "  'doc_count': 6377,\n",
       "  'group_by_sentiment': {'doc_count_error_upper_bound': 0,\n",
       "   'sum_other_doc_count': 0,\n",
       "   'buckets': [{'key': 'neutral', 'doc_count': 46},\n",
       "    {'key': 'positive', 'doc_count': 12},\n",
       "    {'key': 'negative', 'doc_count': 3}]}},\n",
       " {'key_as_string': '2023-08-30T00:00:00.000Z',\n",
       "  'key': 1693353600000,\n",
       "  'doc_count': 5788,\n",
       "  'group_by_sentiment': {'doc_count_error_upper_bound': 0,\n",
       "   'sum_other_doc_count': 0,\n",
       "   'buckets': []}},\n",
       " {'key_as_string': '2023-08-31T00:00:00.000Z',\n",
       "  'key': 1693440000000,\n",
       "  'doc_count': 6300,\n",
       "  'group_by_sentiment': {'doc_count_error_upper_bound': 0,\n",
       "   'sum_other_doc_count': 0,\n",
       "   'buckets': []}},\n",
       " {'key_as_string': '2023-09-01T00:00:00.000Z',\n",
       "  'key': 1693526400000,\n",
       "  'doc_count': 4662,\n",
       "  'group_by_sentiment': {'doc_count_error_upper_bound': 0,\n",
       "   'sum_other_doc_count': 0,\n",
       "   'buckets': []}},\n",
       " {'key_as_string': '2023-09-02T00:00:00.000Z',\n",
       "  'key': 1693612800000,\n",
       "  'doc_count': 800,\n",
       "  'group_by_sentiment': {'doc_count_error_upper_bound': 0,\n",
       "   'sum_other_doc_count': 0,\n",
       "   'buckets': []}},\n",
       " {'key_as_string': '2023-09-03T00:00:00.000Z',\n",
       "  'key': 1693699200000,\n",
       "  'doc_count': 2135,\n",
       "  'group_by_sentiment': {'doc_count_error_upper_bound': 0,\n",
       "   'sum_other_doc_count': 0,\n",
       "   'buckets': []}},\n",
       " {'key_as_string': '2023-09-04T00:00:00.000Z',\n",
       "  'key': 1693785600000,\n",
       "  'doc_count': 5718,\n",
       "  'group_by_sentiment': {'doc_count_error_upper_bound': 0,\n",
       "   'sum_other_doc_count': 0,\n",
       "   'buckets': []}},\n",
       " {'key_as_string': '2023-09-05T00:00:00.000Z',\n",
       "  'key': 1693872000000,\n",
       "  'doc_count': 5963,\n",
       "  'group_by_sentiment': {'doc_count_error_upper_bound': 0,\n",
       "   'sum_other_doc_count': 0,\n",
       "   'buckets': []}},\n",
       " {'key_as_string': '2023-09-06T00:00:00.000Z',\n",
       "  'key': 1693958400000,\n",
       "  'doc_count': 5824,\n",
       "  'group_by_sentiment': {'doc_count_error_upper_bound': 0,\n",
       "   'sum_other_doc_count': 0,\n",
       "   'buckets': []}},\n",
       " {'key_as_string': '2023-09-07T00:00:00.000Z',\n",
       "  'key': 1694044800000,\n",
       "  'doc_count': 6043,\n",
       "  'group_by_sentiment': {'doc_count_error_upper_bound': 0,\n",
       "   'sum_other_doc_count': 0,\n",
       "   'buckets': []}},\n",
       " {'key_as_string': '2023-09-08T00:00:00.000Z',\n",
       "  'key': 1694131200000,\n",
       "  'doc_count': 4596,\n",
       "  'group_by_sentiment': {'doc_count_error_upper_bound': 0,\n",
       "   'sum_other_doc_count': 0,\n",
       "   'buckets': []}},\n",
       " {'key_as_string': '2023-09-09T00:00:00.000Z',\n",
       "  'key': 1694217600000,\n",
       "  'doc_count': 720,\n",
       "  'group_by_sentiment': {'doc_count_error_upper_bound': 0,\n",
       "   'sum_other_doc_count': 0,\n",
       "   'buckets': []}},\n",
       " {'key_as_string': '2023-09-10T00:00:00.000Z',\n",
       "  'key': 1694304000000,\n",
       "  'doc_count': 2011,\n",
       "  'group_by_sentiment': {'doc_count_error_upper_bound': 0,\n",
       "   'sum_other_doc_count': 0,\n",
       "   'buckets': []}},\n",
       " {'key_as_string': '2023-09-11T00:00:00.000Z',\n",
       "  'key': 1694390400000,\n",
       "  'doc_count': 5880,\n",
       "  'group_by_sentiment': {'doc_count_error_upper_bound': 0,\n",
       "   'sum_other_doc_count': 0,\n",
       "   'buckets': []}},\n",
       " {'key_as_string': '2023-09-12T00:00:00.000Z',\n",
       "  'key': 1694476800000,\n",
       "  'doc_count': 5756,\n",
       "  'group_by_sentiment': {'doc_count_error_upper_bound': 0,\n",
       "   'sum_other_doc_count': 0,\n",
       "   'buckets': []}},\n",
       " {'key_as_string': '2023-09-13T00:00:00.000Z',\n",
       "  'key': 1694563200000,\n",
       "  'doc_count': 6401,\n",
       "  'group_by_sentiment': {'doc_count_error_upper_bound': 0,\n",
       "   'sum_other_doc_count': 0,\n",
       "   'buckets': []}},\n",
       " {'key_as_string': '2023-09-14T00:00:00.000Z',\n",
       "  'key': 1694649600000,\n",
       "  'doc_count': 6256,\n",
       "  'group_by_sentiment': {'doc_count_error_upper_bound': 0,\n",
       "   'sum_other_doc_count': 0,\n",
       "   'buckets': []}}]"
      ]
     },
     "execution_count": 32,
     "metadata": {},
     "output_type": "execute_result"
    }
   ],
   "source": [
    "buckets"
   ]
  },
  {
   "cell_type": "code",
   "execution_count": 33,
   "metadata": {},
   "outputs": [],
   "source": [
    "buffer = []\n",
    "\n",
    "# 중첩된 데이터를 한 줄로 변경\n",
    "for x in buckets:\n",
    "    #print(json.dumps(x, indent=4))\n",
    "\n",
    "    sents = x['group_by_sentiment']['buckets']\n",
    "\n",
    "    # entry = {}\n",
    "    # for s in sents:\n",
    "    #     key = x['key']\n",
    "    #     value = x['doc_count']\n",
    "    #     entry[key] = value\n",
    "\n",
    "    entry = {t['key']: t['doc_count'] for t in sents}\n",
    "    entry['date'] = x['key_as_string']\n",
    "\n",
    "    buffer.append(entry)\n",
    "    "
   ]
  },
  {
   "cell_type": "code",
   "execution_count": 34,
   "metadata": {},
   "outputs": [],
   "source": [
    "df = pd.DataFrame(buffer)\n",
    "df['date'] = pd.to_datetime(df['date'])\n",
    "df = df.set_index('date')\n",
    "df = df.loc['2023-08-01': ]"
   ]
  },
  {
   "cell_type": "code",
   "execution_count": 35,
   "metadata": {},
   "outputs": [],
   "source": [
    "plt.rcParams['figure.figsize'] = (10, 4)"
   ]
  },
  {
   "cell_type": "code",
   "execution_count": 36,
   "metadata": {},
   "outputs": [
    {
     "data": {
      "image/png": "[encoded data removed]",
      "text/plain": [
       "<Figure size 1000x400 with 1 Axes>"
      ]
     },
     "metadata": {},
     "output_type": "display_data"
    }
   ],
   "source": [
    "plt.plot(df['positive'], label='# Positive')\n",
    "plt.plot(df['negative'], label='# Negative')\n",
    "plt.plot(df['neutral'], label='# Neutral')\n",
    "plt.legend()\n",
    "plt.show()"
   ]
  },
  {
   "cell_type": "code",
   "execution_count": 37,
   "metadata": {},
   "outputs": [],
   "source": [
    "df['sentiment'] = \\\n",
    "    (df['positive'] - df['negative']) / df.sum(axis=1)"
   ]
  },
  {
   "cell_type": "code",
   "execution_count": 38,
   "metadata": {},
   "outputs": [
    {
     "data": {
      "image/png": "[encoded data removed]",
      "text/plain": [
       "<Figure size 1000x400 with 1 Axes>"
      ]
     },
     "metadata": {},
     "output_type": "display_data"
    }
   ],
   "source": [
    "plt.plot(df['sentiment'])\n",
    "plt.show()"
   ]
  }
 ],
 "metadata": {
  "kernelspec": {
   "display_name": "base",
   "language": "python",
   "name": "python3"
  },
  "language_info": {
   "codemirror_mode": {
    "name": "ipython",
    "version": 3
   },
   "file_extension": ".py",
   "mimetype": "text/x-python",
   "name": "python",
   "nbconvert_exporter": "python",
   "pygments_lexer": "ipython3",
   "version": "3.11.5"
  }
 },
 "nbformat": 4,
 "nbformat_minor": 2
}
