{
 "cells": [
  {
   "cell_type": "markdown",
   "metadata": {},
   "source": [
    "## Tokenization - Korean"
   ]
  },
  {
   "cell_type": "markdown",
   "metadata": {},
   "source": [
    "### 오태건 (20222047)"
   ]
  },
  {
   "cell_type": "code",
   "execution_count": null,
   "metadata": {},
   "outputs": [],
   "source": [
    "!pip install kss"
   ]
  },
  {
   "cell_type": "code",
   "execution_count": 3,
   "metadata": {},
   "outputs": [],
   "source": [
    "import kss"
   ]
  },
  {
   "cell_type": "code",
   "execution_count": 4,
   "metadata": {},
   "outputs": [],
   "source": [
    "text = '너에게 닥친 고난이 아무리 커보이더라도 명심해라. 아직 빙산의 일각일 뿐이다.'"
   ]
  },
  {
   "cell_type": "code",
   "execution_count": 5,
   "metadata": {},
   "outputs": [
    {
     "name": "stderr",
     "output_type": "stream",
     "text": [
      "[Kss]: Because there's no supported C++ morpheme analyzer, Kss will take pecab as a backend. :D\n",
      "For your information, Kss also supports mecab backend.\n",
      "We recommend you to install mecab or konlpy.tag.Mecab for faster execution of Kss.\n",
      "Please refer to following web sites for details:\n",
      "- mecab: https://cleancode-ws.tistory.com/97\n",
      "- konlpy.tag.Mecab: https://uwgdqo.tistory.com/363\n",
      "\n"
     ]
    },
    {
     "name": "stdout",
     "output_type": "stream",
     "text": [
      "너에게 닥친 고난이 아무리 커보이더라도 명심해라.\n",
      "아직 빙산의 일각일 뿐이다.\n"
     ]
    }
   ],
   "source": [
    "for sent in kss.split_sentences(text):\n",
    "    print(sent)"
   ]
  },
  {
   "cell_type": "code",
   "execution_count": null,
   "metadata": {},
   "outputs": [],
   "source": [
    "!pip install konlpy"
   ]
  },
  {
   "cell_type": "code",
   "execution_count": 6,
   "metadata": {},
   "outputs": [],
   "source": [
    "from konlpy.tag import Okt"
   ]
  },
  {
   "cell_type": "code",
   "execution_count": 7,
   "metadata": {},
   "outputs": [],
   "source": [
    "# okt : instance, variable\n",
    "# Okt : class \n",
    "okt = Okt()"
   ]
  },
  {
   "cell_type": "code",
   "execution_count": 9,
   "metadata": {},
   "outputs": [
    {
     "name": "stdout",
     "output_type": "stream",
     "text": [
      "너에게 닥친 고난이 아무리 커보이더라도 명심해라.\n",
      "('너', 'Noun')\n",
      "('에게', 'Josa')\n",
      "('닥친', 'Verb')\n",
      "('고난', 'Noun')\n",
      "('이', 'Josa')\n",
      "('아무리', 'Adverb')\n",
      "('커', 'Verb')\n",
      "('보이더라도', 'Verb')\n",
      "('명', 'Noun')\n",
      "('심해', 'Noun')\n",
      "('라', 'Josa')\n",
      "('.', 'Punctuation')\n",
      "\n",
      "아직 빙산의 일각일 뿐이다.\n",
      "('아직', 'Adverb')\n",
      "('빙산', 'Noun')\n",
      "('의', 'Josa')\n",
      "('일', 'Modifier')\n",
      "('각', 'Modifier')\n",
      "('일', 'Noun')\n",
      "('뿐', 'Noun')\n",
      "('이다', 'Josa')\n",
      "('.', 'Punctuation')\n",
      "\n"
     ]
    }
   ],
   "source": [
    "for sent in kss.split_sentences(text):\n",
    "    print(sent)\n",
    "    # 단어 쪼개기\n",
    "    #for token in okt.morphs(sent):\n",
    "    # 단어 쪼개기(+ 문법)\n",
    "    for token in okt.pos(sent):\n",
    "        print(token)\n",
    "\n",
    "    print()"
   ]
  }
 ],
 "metadata": {
  "kernelspec": {
   "display_name": "Python 3",
   "language": "python",
   "name": "python3"
  },
  "language_info": {
   "codemirror_mode": {
    "name": "ipython",
    "version": 3
   },
   "file_extension": ".py",
   "mimetype": "text/x-python",
   "name": "python",
   "nbconvert_exporter": "python",
   "pygments_lexer": "ipython3",
   "version": "3.11.4"
  },
  "orig_nbformat": 4
 },
 "nbformat": 4,
 "nbformat_minor": 2
}
