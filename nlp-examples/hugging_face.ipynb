{
 "cells": [
  {
   "cell_type": "markdown",
   "metadata": {},
   "source": [
    "## Hugging Face Exercise"
   ]
  },
  {
   "cell_type": "markdown",
   "metadata": {},
   "source": [
    "### 오태건 (20224071)"
   ]
  },
  {
   "cell_type": "code",
   "execution_count": 3,
   "metadata": {},
   "outputs": [],
   "source": [
    "# !pip3 install -U transformers\n",
    "# !pip install sentencepiece"
   ]
  },
  {
   "cell_type": "code",
   "execution_count": 4,
   "metadata": {},
   "outputs": [],
   "source": [
    "from transformers import pipeline"
   ]
  },
  {
   "cell_type": "markdown",
   "metadata": {},
   "source": [
    "## Sentiment Analysis"
   ]
  },
  {
   "cell_type": "code",
   "execution_count": 5,
   "metadata": {},
   "outputs": [
    {
     "name": "stderr",
     "output_type": "stream",
     "text": [
      "No model was supplied, defaulted to distilbert-base-uncased-finetuned-sst-2-english and revision af0f99b (https://huggingface.co/distilbert-base-uncased-finetuned-sst-2-english).\n",
      "Using a pipeline without specifying a model name and revision in production is not recommended.\n"
     ]
    }
   ],
   "source": [
    "classifier = pipeline('sentiment-analysis')"
   ]
  },
  {
   "cell_type": "code",
   "execution_count": 6,
   "metadata": {},
   "outputs": [],
   "source": [
    "text = [\n",
    "    \"Fly me to the moon, and let me play among the stars\",\n",
    "    \"April is the cruellest month, breeding Lilacs out of the dead land.\"\n",
    "]"
   ]
  },
  {
   "cell_type": "code",
   "execution_count": 7,
   "metadata": {},
   "outputs": [
    {
     "data": {
      "text/plain": [
       "[{'label': 'POSITIVE', 'score': 0.9996751546859741},\n",
       " {'label': 'NEGATIVE', 'score': 0.9489614963531494}]"
      ]
     },
     "execution_count": 7,
     "metadata": {},
     "output_type": "execute_result"
    }
   ],
   "source": [
    "classifier(text) # 긍정/부정 판별"
   ]
  },
  {
   "cell_type": "code",
   "execution_count": null,
   "metadata": {},
   "outputs": [],
   "source": []
  },
  {
   "cell_type": "markdown",
   "metadata": {},
   "source": [
    "## Zero-shot classification"
   ]
  },
  {
   "cell_type": "code",
   "execution_count": 8,
   "metadata": {},
   "outputs": [
    {
     "name": "stderr",
     "output_type": "stream",
     "text": [
      "No model was supplied, defaulted to facebook/bart-large-mnli and revision c626438 (https://huggingface.co/facebook/bart-large-mnli).\n",
      "Using a pipeline without specifying a model name and revision in production is not recommended.\n"
     ]
    }
   ],
   "source": [
    "classifier = pipeline('zero-shot-classification')"
   ]
  },
  {
   "cell_type": "code",
   "execution_count": 9,
   "metadata": {},
   "outputs": [],
   "source": [
    "text = [\n",
    "    \"German finance minister urges EU to rein in public spending\",\n",
    "    \"China seeks more island security pacts to boost clout in Pacific\"\n",
    "]"
   ]
  },
  {
   "cell_type": "code",
   "execution_count": 10,
   "metadata": {},
   "outputs": [
    {
     "data": {
      "text/plain": [
       "[{'sequence': 'German finance minister urges EU to rein in public spending',\n",
       "  'labels': ['europe', 'politics', 'economy', 'business', 'education', 'asia'],\n",
       "  'scores': [0.40189293026924133,\n",
       "   0.25528109073638916,\n",
       "   0.24060110747814178,\n",
       "   0.07709478586912155,\n",
       "   0.01616509258747101,\n",
       "   0.008965006098151207]},\n",
       " {'sequence': 'China seeks more island security pacts to boost clout in Pacific',\n",
       "  'labels': ['politics', 'asia', 'business', 'economy', 'europe', 'education'],\n",
       "  'scores': [0.5034116506576538,\n",
       "   0.27670812606811523,\n",
       "   0.1455715000629425,\n",
       "   0.03344884142279625,\n",
       "   0.02069881185889244,\n",
       "   0.02016107365489006]}]"
      ]
     },
     "execution_count": 10,
     "metadata": {},
     "output_type": "execute_result"
    }
   ],
   "source": [
    "# 제시한 labels에 따라 분류 \n",
    "classifier(\n",
    "    text, \n",
    "    candidate_labels = [\n",
    "        'education', 'politics', 'business', 'economy', 'europe', 'asia',\n",
    "    ]\n",
    ")"
   ]
  },
  {
   "cell_type": "code",
   "execution_count": null,
   "metadata": {},
   "outputs": [],
   "source": []
  },
  {
   "cell_type": "markdown",
   "metadata": {},
   "source": [
    "## Text Generation"
   ]
  },
  {
   "cell_type": "code",
   "execution_count": 11,
   "metadata": {},
   "outputs": [
    {
     "name": "stderr",
     "output_type": "stream",
     "text": [
      "No model was supplied, defaulted to gpt2 and revision 6c0e608 (https://huggingface.co/gpt2).\n",
      "Using a pipeline without specifying a model name and revision in production is not recommended.\n"
     ]
    }
   ],
   "source": [
    "# gpt2 다운 받음 \n",
    "generator = pipeline('text-generation')"
   ]
  },
  {
   "cell_type": "code",
   "execution_count": 12,
   "metadata": {},
   "outputs": [],
   "source": [
    "# \"The Myth of Sisyphus\" by Albert Camus\n",
    "text = \"There is but one truly serious philosophical problem, and that is suicide. Judging\""
   ]
  },
  {
   "cell_type": "code",
   "execution_count": 13,
   "metadata": {},
   "outputs": [
    {
     "name": "stderr",
     "output_type": "stream",
     "text": [
      "Setting `pad_token_id` to `eos_token_id`:50256 for open-end generation.\n"
     ]
    },
    {
     "data": {
      "text/plain": [
       "[{'generated_text': 'There is but one truly serious philosophical problem, and that is suicide. Judging by the media frenzy to come, many pundits are telling us that suicide is a terrible thing, that it is morally wrong. It is simply madness.\\n\\nLet\\'s begin with a statement that has attracted a lot of heat lately. It comes from a great economist named Steven Zahn who came up with that very argument in his seminal work, Money: The Life of A Sociopath\\'s Quest for Money (1980). In his original article, Zahn states an argument that is really just a short-form problem of a self-destructive psychology. However as you might expect, this same book states, after it was published, an argument that has no basis in fact.\\n\\nThis \"problem\" has actually been presented several times before, but it did not originate in the book. Rather, it came up in Zahn\\'s book, The Money Problem. He is an Austrian School of economics professor, known around the country as the \"Börsebergian Economics professor\". To begin with, his book, The Money Problem, deals explicitly with how the system of money itself and money\\'s dynamics work in relation to one another.\\n\\nAs Zahn writes it, we can now understand'}]"
      ]
     },
     "execution_count": 13,
     "metadata": {},
     "output_type": "execute_result"
    }
   ],
   "source": [
    "# 주어진 문장으로 제시한 길이에 따라 문장을 작성해줌 \n",
    "generator(text, max_length=256)"
   ]
  },
  {
   "cell_type": "code",
   "execution_count": null,
   "metadata": {},
   "outputs": [],
   "source": []
  },
  {
   "cell_type": "markdown",
   "metadata": {},
   "source": [
    "## Mask filling"
   ]
  },
  {
   "cell_type": "code",
   "execution_count": 14,
   "metadata": {},
   "outputs": [
    {
     "name": "stderr",
     "output_type": "stream",
     "text": [
      "No model was supplied, defaulted to distilroberta-base and revision ec58a5b (https://huggingface.co/distilroberta-base).\n",
      "Using a pipeline without specifying a model name and revision in production is not recommended.\n",
      "Some weights of the model checkpoint at distilroberta-base were not used when initializing RobertaForMaskedLM: ['roberta.pooler.dense.weight', 'roberta.pooler.dense.bias']\n",
      "- This IS expected if you are initializing RobertaForMaskedLM from the checkpoint of a model trained on another task or with another architecture (e.g. initializing a BertForSequenceClassification model from a BertForPreTraining model).\n",
      "- This IS NOT expected if you are initializing RobertaForMaskedLM from the checkpoint of a model that you expect to be exactly identical (initializing a BertForSequenceClassification model from a BertForSequenceClassification model).\n"
     ]
    }
   ],
   "source": [
    "unmasker = pipeline('fill-mask')"
   ]
  },
  {
   "cell_type": "code",
   "execution_count": 15,
   "metadata": {},
   "outputs": [],
   "source": [
    "# Billie Eilish\n",
    "text = \"So you're a <mask> guy, Like it really rough guy\""
   ]
  },
  {
   "cell_type": "code",
   "execution_count": 16,
   "metadata": {},
   "outputs": [
    {
     "data": {
      "text/plain": [
       "[{'score': 0.927448034286499,\n",
       "  'token': 6744,\n",
       "  'token_str': ' rough',\n",
       "  'sequence': \"So you're a rough guy, Like it really rough guy\"},\n",
       " {'score': 0.030522378161549568,\n",
       "  'token': 1828,\n",
       "  'token_str': ' tough',\n",
       "  'sequence': \"So you're a tough guy, Like it really rough guy\"},\n",
       " {'score': 0.0017657509306445718,\n",
       "  'token': 1099,\n",
       "  'token_str': ' bad',\n",
       "  'sequence': \"So you're a bad guy, Like it really rough guy\"},\n",
       " {'score': 0.0016832515830174088,\n",
       "  'token': 15455,\n",
       "  'token_str': ' nasty',\n",
       "  'sequence': \"So you're a nasty guy, Like it really rough guy\"},\n",
       " {'score': 0.0015439123380929232,\n",
       "  'token': 543,\n",
       "  'token_str': ' hard',\n",
       "  'sequence': \"So you're a hard guy, Like it really rough guy\"}]"
      ]
     },
     "execution_count": 16,
     "metadata": {},
     "output_type": "execute_result"
    }
   ],
   "source": [
    "# rough 랑 가까운 단어는 embedding 을 통해 했었고\n",
    "# context 를 이해하여 <mask> 에 적합한 단어를 채워줌 \n",
    "unmasker(text)"
   ]
  },
  {
   "cell_type": "code",
   "execution_count": null,
   "metadata": {},
   "outputs": [],
   "source": []
  },
  {
   "cell_type": "markdown",
   "metadata": {},
   "source": [
    "## NER(Named Entity Recongnition)"
   ]
  },
  {
   "cell_type": "code",
   "execution_count": 17,
   "metadata": {},
   "outputs": [
    {
     "name": "stderr",
     "output_type": "stream",
     "text": [
      "No model was supplied, defaulted to dbmdz/bert-large-cased-finetuned-conll03-english and revision f2482bf (https://huggingface.co/dbmdz/bert-large-cased-finetuned-conll03-english).\n",
      "Using a pipeline without specifying a model name and revision in production is not recommended.\n",
      "Some weights of the model checkpoint at dbmdz/bert-large-cased-finetuned-conll03-english were not used when initializing BertForTokenClassification: ['bert.pooler.dense.bias', 'bert.pooler.dense.weight']\n",
      "- This IS expected if you are initializing BertForTokenClassification from the checkpoint of a model trained on another task or with another architecture (e.g. initializing a BertForSequenceClassification model from a BertForPreTraining model).\n",
      "- This IS NOT expected if you are initializing BertForTokenClassification from the checkpoint of a model that you expect to be exactly identical (initializing a BertForSequenceClassification model from a BertForSequenceClassification model).\n"
     ]
    }
   ],
   "source": [
    "ner = pipeline('ner')"
   ]
  },
  {
   "cell_type": "code",
   "execution_count": 18,
   "metadata": {},
   "outputs": [],
   "source": [
    "text = \"Steven Paul Jobs (February 24, 1955 – October 5, 2011) was an American entrepreneur, inventor, business magnate, media proprietor, and investor. He was the co-founder, chairman, and CEO of Apple; the chairman and majority shareholder of Pixar; a member of The Walt Disney Company's board of directors following its acquisition of Pixar; and the founder, chairman, and CEO of NeXT. He is widely recognized as a pioneer of the personal computer revolution of the 1970s and 1980s, along with his early business partner and fellow Apple co-founder Steve Wozniak.\""
   ]
  },
  {
   "cell_type": "code",
   "execution_count": 19,
   "metadata": {},
   "outputs": [
    {
     "data": {
      "text/plain": [
       "[{'entity': 'I-PER',\n",
       "  'score': 0.99945754,\n",
       "  'index': 1,\n",
       "  'word': 'Steven',\n",
       "  'start': 0,\n",
       "  'end': 6},\n",
       " {'entity': 'I-PER',\n",
       "  'score': 0.9994562,\n",
       "  'index': 2,\n",
       "  'word': 'Paul',\n",
       "  'start': 7,\n",
       "  'end': 11},\n",
       " {'entity': 'I-PER',\n",
       "  'score': 0.999501,\n",
       "  'index': 3,\n",
       "  'word': 'Job',\n",
       "  'start': 12,\n",
       "  'end': 15},\n",
       " {'entity': 'I-PER',\n",
       "  'score': 0.99722654,\n",
       "  'index': 4,\n",
       "  'word': '##s',\n",
       "  'start': 15,\n",
       "  'end': 16},\n",
       " {'entity': 'I-MISC',\n",
       "  'score': 0.9967591,\n",
       "  'index': 18,\n",
       "  'word': 'American',\n",
       "  'start': 62,\n",
       "  'end': 70},\n",
       " {'entity': 'I-ORG',\n",
       "  'score': 0.9993734,\n",
       "  'index': 45,\n",
       "  'word': 'Apple',\n",
       "  'start': 189,\n",
       "  'end': 194},\n",
       " {'entity': 'I-ORG',\n",
       "  'score': 0.9989691,\n",
       "  'index': 53,\n",
       "  'word': 'Pi',\n",
       "  'start': 237,\n",
       "  'end': 239},\n",
       " {'entity': 'I-ORG',\n",
       "  'score': 0.9961754,\n",
       "  'index': 54,\n",
       "  'word': '##xa',\n",
       "  'start': 239,\n",
       "  'end': 241},\n",
       " {'entity': 'I-ORG',\n",
       "  'score': 0.9993247,\n",
       "  'index': 55,\n",
       "  'word': '##r',\n",
       "  'start': 241,\n",
       "  'end': 242},\n",
       " {'entity': 'I-ORG',\n",
       "  'score': 0.9991516,\n",
       "  'index': 60,\n",
       "  'word': 'The',\n",
       "  'start': 256,\n",
       "  'end': 259},\n",
       " {'entity': 'I-ORG',\n",
       "  'score': 0.9995415,\n",
       "  'index': 61,\n",
       "  'word': 'Walt',\n",
       "  'start': 260,\n",
       "  'end': 264},\n",
       " {'entity': 'I-ORG',\n",
       "  'score': 0.99930453,\n",
       "  'index': 62,\n",
       "  'word': 'Disney',\n",
       "  'start': 265,\n",
       "  'end': 271},\n",
       " {'entity': 'I-ORG',\n",
       "  'score': 0.99911934,\n",
       "  'index': 63,\n",
       "  'word': 'Company',\n",
       "  'start': 272,\n",
       "  'end': 279},\n",
       " {'entity': 'I-ORG',\n",
       "  'score': 0.99833447,\n",
       "  'index': 73,\n",
       "  'word': 'Pi',\n",
       "  'start': 330,\n",
       "  'end': 332},\n",
       " {'entity': 'I-ORG',\n",
       "  'score': 0.9955433,\n",
       "  'index': 74,\n",
       "  'word': '##xa',\n",
       "  'start': 332,\n",
       "  'end': 334},\n",
       " {'entity': 'I-ORG',\n",
       "  'score': 0.9990802,\n",
       "  'index': 75,\n",
       "  'word': '##r',\n",
       "  'start': 334,\n",
       "  'end': 335},\n",
       " {'entity': 'I-ORG',\n",
       "  'score': 0.99892163,\n",
       "  'index': 86,\n",
       "  'word': 'N',\n",
       "  'start': 375,\n",
       "  'end': 376},\n",
       " {'entity': 'I-ORG',\n",
       "  'score': 0.9892463,\n",
       "  'index': 87,\n",
       "  'word': '##e',\n",
       "  'start': 376,\n",
       "  'end': 377},\n",
       " {'entity': 'I-ORG',\n",
       "  'score': 0.9980622,\n",
       "  'index': 88,\n",
       "  'word': '##XT',\n",
       "  'start': 377,\n",
       "  'end': 379},\n",
       " {'entity': 'I-ORG',\n",
       "  'score': 0.99610436,\n",
       "  'index': 116,\n",
       "  'word': 'Apple',\n",
       "  'start': 527,\n",
       "  'end': 532},\n",
       " {'entity': 'I-PER',\n",
       "  'score': 0.99932516,\n",
       "  'index': 120,\n",
       "  'word': 'Steve',\n",
       "  'start': 544,\n",
       "  'end': 549},\n",
       " {'entity': 'I-PER',\n",
       "  'score': 0.99936026,\n",
       "  'index': 121,\n",
       "  'word': 'W',\n",
       "  'start': 550,\n",
       "  'end': 551},\n",
       " {'entity': 'I-PER',\n",
       "  'score': 0.84747314,\n",
       "  'index': 122,\n",
       "  'word': '##oz',\n",
       "  'start': 551,\n",
       "  'end': 553},\n",
       " {'entity': 'I-PER',\n",
       "  'score': 0.815464,\n",
       "  'index': 123,\n",
       "  'word': '##nia',\n",
       "  'start': 553,\n",
       "  'end': 556},\n",
       " {'entity': 'I-PER',\n",
       "  'score': 0.9925479,\n",
       "  'index': 124,\n",
       "  'word': '##k',\n",
       "  'start': 556,\n",
       "  'end': 557}]"
      ]
     },
     "execution_count": 19,
     "metadata": {},
     "output_type": "execute_result"
    }
   ],
   "source": [
    "ner(text)"
   ]
  },
  {
   "cell_type": "code",
   "execution_count": null,
   "metadata": {},
   "outputs": [],
   "source": []
  },
  {
   "cell_type": "markdown",
   "metadata": {},
   "source": [
    "## Questing answering"
   ]
  },
  {
   "cell_type": "code",
   "execution_count": 20,
   "metadata": {},
   "outputs": [
    {
     "name": "stderr",
     "output_type": "stream",
     "text": [
      "No model was supplied, defaulted to distilbert-base-cased-distilled-squad and revision 626af31 (https://huggingface.co/distilbert-base-cased-distilled-squad).\n",
      "Using a pipeline without specifying a model name and revision in production is not recommended.\n"
     ]
    }
   ],
   "source": [
    "qa = pipeline('question-answering')"
   ]
  },
  {
   "cell_type": "code",
   "execution_count": 21,
   "metadata": {},
   "outputs": [
    {
     "data": {
      "text/plain": [
       "{'score': 0.4551231563091278, 'start': 189, 'end': 194, 'answer': 'Apple'}"
      ]
     },
     "execution_count": 21,
     "metadata": {},
     "output_type": "execute_result"
    }
   ],
   "source": [
    "qa(\n",
    "    context=text,\n",
    "    question='Which companies are founded by Steve Jobs?'\n",
    ")"
   ]
  },
  {
   "cell_type": "code",
   "execution_count": null,
   "metadata": {},
   "outputs": [],
   "source": []
  },
  {
   "cell_type": "markdown",
   "metadata": {},
   "source": [
    "## Summarization"
   ]
  },
  {
   "cell_type": "code",
   "execution_count": 22,
   "metadata": {},
   "outputs": [
    {
     "name": "stderr",
     "output_type": "stream",
     "text": [
      "No model was supplied, defaulted to sshleifer/distilbart-cnn-12-6 and revision a4f8f3e (https://huggingface.co/sshleifer/distilbart-cnn-12-6).\n",
      "Using a pipeline without specifying a model name and revision in production is not recommended.\n"
     ]
    },
    {
     "data": {
      "application/vnd.jupyter.widget-view+json": {
       "model_id": "6d03ca3d27094c93a84f315fa009120a",
       "version_major": 2,
       "version_minor": 0
      },
      "text/plain": [
       "Downloading (…)okenizer_config.json:   0%|          | 0.00/26.0 [00:00<?, ?B/s]"
      ]
     },
     "metadata": {},
     "output_type": "display_data"
    },
    {
     "data": {
      "application/vnd.jupyter.widget-view+json": {
       "model_id": "c35c0040a1a14f1b84daedf59bd4c8b5",
       "version_major": 2,
       "version_minor": 0
      },
      "text/plain": [
       "Downloading (…)olve/main/vocab.json:   0%|          | 0.00/899k [00:00<?, ?B/s]"
      ]
     },
     "metadata": {},
     "output_type": "display_data"
    },
    {
     "data": {
      "application/vnd.jupyter.widget-view+json": {
       "model_id": "a0ac6e77bb0240efb1ba9f6126820d2d",
       "version_major": 2,
       "version_minor": 0
      },
      "text/plain": [
       "Downloading (…)olve/main/merges.txt:   0%|          | 0.00/456k [00:00<?, ?B/s]"
      ]
     },
     "metadata": {},
     "output_type": "display_data"
    }
   ],
   "source": [
    "summarizer = pipeline('summarization')"
   ]
  },
  {
   "cell_type": "code",
   "execution_count": 23,
   "metadata": {},
   "outputs": [
    {
     "data": {
      "text/plain": [
       "[{'summary_text': \" Steven Paul Jobs was the co-founder, chairman, and CEO of Apple . He is widely recognized as a pioneer of the personal computer revolution of the 1970s and 1980s, along with his early business partner Steve Wozniak . He was a member of The Walt Disney Company's board of directors\"}]"
      ]
     },
     "execution_count": 23,
     "metadata": {},
     "output_type": "execute_result"
    }
   ],
   "source": [
    "# 주어진 text를 64 길이 안으로 요약해줘 \n",
    "summarizer(text, max_length=64)"
   ]
  },
  {
   "cell_type": "code",
   "execution_count": null,
   "metadata": {},
   "outputs": [],
   "source": []
  },
  {
   "cell_type": "markdown",
   "metadata": {},
   "source": [
    "## Translation"
   ]
  },
  {
   "cell_type": "code",
   "execution_count": 26,
   "metadata": {},
   "outputs": [],
   "source": [
    "# en > france\n",
    "translator = pipeline('translation', model='Helsinki-NLP/opus-mt-en-fr')"
   ]
  },
  {
   "cell_type": "code",
   "execution_count": 27,
   "metadata": {},
   "outputs": [
    {
     "data": {
      "text/plain": [
       "[{'translation_text': 'Bonjour le monde'}]"
      ]
     },
     "execution_count": 27,
     "metadata": {},
     "output_type": "execute_result"
    }
   ],
   "source": [
    "translator('Hello World')"
   ]
  },
  {
   "cell_type": "code",
   "execution_count": 28,
   "metadata": {},
   "outputs": [
    {
     "data": {
      "text/plain": [
       "[{'translation_text': \"Steven Paul Jobs (24 février 1955 – 5 octobre 2011) était un entrepreneur américain, inventeur, magnat des affaires, propriétaire de médias et investisseur. Il était le cofondateur, président et directeur général d'Apple; le président et actionnaire majoritaire de Pixar; un membre du conseil d'administration de la Walt Disney Company suite à son acquisition de Pixar; et le fondateur, président et chef de la direction de NeXT. Il est largement reconnu comme un pionnier de la révolution informatique personnelle des années 1970 et 1980, ainsi que son premier associé et cofondateur d'Apple Steve Wozniak.\"}]"
      ]
     },
     "execution_count": 28,
     "metadata": {},
     "output_type": "execute_result"
    }
   ],
   "source": [
    "translator(text)"
   ]
  },
  {
   "cell_type": "code",
   "execution_count": 29,
   "metadata": {},
   "outputs": [
    {
     "data": {
      "application/vnd.jupyter.widget-view+json": {
       "model_id": "35f9717a6a63437fad16703d05cd59e6",
       "version_major": 2,
       "version_minor": 0
      },
      "text/plain": [
       "Downloading (…)lve/main/config.json:   0%|          | 0.00/1.39k [00:00<?, ?B/s]"
      ]
     },
     "metadata": {},
     "output_type": "display_data"
    },
    {
     "data": {
      "application/vnd.jupyter.widget-view+json": {
       "model_id": "de97b53994f84d6aae171c01c12ff44a",
       "version_major": 2,
       "version_minor": 0
      },
      "text/plain": [
       "Downloading pytorch_model.bin:   0%|          | 0.00/312M [00:00<?, ?B/s]"
      ]
     },
     "metadata": {},
     "output_type": "display_data"
    },
    {
     "data": {
      "application/vnd.jupyter.widget-view+json": {
       "model_id": "990fa844602a45f2a13995035999a407",
       "version_major": 2,
       "version_minor": 0
      },
      "text/plain": [
       "Downloading (…)neration_config.json:   0%|          | 0.00/293 [00:00<?, ?B/s]"
      ]
     },
     "metadata": {},
     "output_type": "display_data"
    },
    {
     "data": {
      "application/vnd.jupyter.widget-view+json": {
       "model_id": "e821bfa9bc8045bebefaf2f76e591f14",
       "version_major": 2,
       "version_minor": 0
      },
      "text/plain": [
       "Downloading (…)okenizer_config.json:   0%|          | 0.00/44.0 [00:00<?, ?B/s]"
      ]
     },
     "metadata": {},
     "output_type": "display_data"
    },
    {
     "data": {
      "application/vnd.jupyter.widget-view+json": {
       "model_id": "1e29693716734b6b806ab9d779fe3e23",
       "version_major": 2,
       "version_minor": 0
      },
      "text/plain": [
       "Downloading (…)olve/main/source.spm:   0%|          | 0.00/842k [00:00<?, ?B/s]"
      ]
     },
     "metadata": {},
     "output_type": "display_data"
    },
    {
     "data": {
      "application/vnd.jupyter.widget-view+json": {
       "model_id": "db0778d4a81341839b7f97d532772715",
       "version_major": 2,
       "version_minor": 0
      },
      "text/plain": [
       "Downloading (…)olve/main/target.spm:   0%|          | 0.00/813k [00:00<?, ?B/s]"
      ]
     },
     "metadata": {},
     "output_type": "display_data"
    },
    {
     "data": {
      "application/vnd.jupyter.widget-view+json": {
       "model_id": "88526e8cdf6b4a92aba590097c113c39",
       "version_major": 2,
       "version_minor": 0
      },
      "text/plain": [
       "Downloading (…)olve/main/vocab.json:   0%|          | 0.00/1.72M [00:00<?, ?B/s]"
      ]
     },
     "metadata": {},
     "output_type": "display_data"
    }
   ],
   "source": [
    "# ko > en \n",
    "translator = pipeline('translation', model='Helsinki-NLP/opus-mt-ko-en')"
   ]
  },
  {
   "cell_type": "code",
   "execution_count": 30,
   "metadata": {},
   "outputs": [],
   "source": [
    "text = \"한국산 가상화폐 루나와 테라USD(UST) 폭락으로 손실을 본 투자자들이 발행사 테라폼랩스의 권도형 최고경영자(CEO)를 고소했다.\""
   ]
  },
  {
   "cell_type": "code",
   "execution_count": 31,
   "metadata": {},
   "outputs": [
    {
     "data": {
      "text/plain": [
       "[{'translation_text': \"After losing a Korean virtual currency, Luna turusD (UST), investors filed charges against CEO's high-powered top manager for the launch service terafos.\"}]"
      ]
     },
     "execution_count": 31,
     "metadata": {},
     "output_type": "execute_result"
    }
   ],
   "source": [
    "translator(text)"
   ]
  },
  {
   "cell_type": "code",
   "execution_count": null,
   "metadata": {},
   "outputs": [],
   "source": []
  },
  {
   "cell_type": "markdown",
   "metadata": {},
   "source": [
    "## Sentiment Analysis - Korean"
   ]
  },
  {
   "cell_type": "code",
   "execution_count": 35,
   "metadata": {},
   "outputs": [],
   "source": [
    "# 서울대 연구실에서 매일경제 뉴스를 데이터로 학습시킨 모델임 \n",
    "classifier = pipeline('sentiment-analysis', model='snunlp/KR-FinBert-SC')\n"
   ]
  },
  {
   "cell_type": "code",
   "execution_count": 36,
   "metadata": {},
   "outputs": [],
   "source": [
    "text = [\n",
    "    \"한국산 가상화폐 루나와 테라USD(UST) 폭락으로 손실을 본 투자자들이 발행사 테라폼랩스의 권도형 최고경영자(CEO)를 고소했다.\",\n",
    "    \"외국인, 올해 국내 주식 15조 원 순매도…삼성만 5조 원 팔았다\",\n",
    "    \"尹, 탈원전 정상화 추진 “원전 수출 증진 위해 韓美 노력”\",\n",
    "]"
   ]
  },
  {
   "cell_type": "code",
   "execution_count": 37,
   "metadata": {},
   "outputs": [
    {
     "data": {
      "text/plain": [
       "[{'label': 'negative', 'score': 0.9798452258110046},\n",
       " {'label': 'negative', 'score': 0.9699409604072571},\n",
       " {'label': 'positive', 'score': 0.9954456090927124}]"
      ]
     },
     "execution_count": 37,
     "metadata": {},
     "output_type": "execute_result"
    }
   ],
   "source": [
    "classifier(text)"
   ]
  },
  {
   "cell_type": "code",
   "execution_count": null,
   "metadata": {},
   "outputs": [],
   "source": []
  }
 ],
 "metadata": {
  "kernelspec": {
   "display_name": "Python 3",
   "language": "python",
   "name": "python3"
  },
  "language_info": {
   "codemirror_mode": {
    "name": "ipython",
    "version": 3
   },
   "file_extension": ".py",
   "mimetype": "text/x-python",
   "name": "python",
   "nbconvert_exporter": "python",
   "pygments_lexer": "ipython3",
   "version": "3.11.5"
  },
  "orig_nbformat": 4
 },
 "nbformat": 4,
 "nbformat_minor": 2
}
