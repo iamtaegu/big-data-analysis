{
 "cells": [
  {
   "cell_type": "markdown",
   "metadata": {},
   "source": [
    "# Song Recommendations\n",
    "## 오태건(20224071)"
   ]
  },
  {
   "cell_type": "code",
   "execution_count": 1,
   "metadata": {},
   "outputs": [],
   "source": [
    "import requests"
   ]
  },
  {
   "cell_type": "code",
   "execution_count": 2,
   "metadata": {},
   "outputs": [],
   "source": [
    "url = 'https://storage.googleapis.com/maps-premium/dataset/yes_complete/train.txt'"
   ]
  },
  {
   "cell_type": "code",
   "execution_count": 3,
   "metadata": {},
   "outputs": [],
   "source": [
    "resp = requests.get(url)"
   ]
  },
  {
   "cell_type": "code",
   "execution_count": 4,
   "metadata": {},
   "outputs": [],
   "source": [
    "#\\n = line break\n",
    "lines = resp.text.split('\\n')[2:]"
   ]
  },
  {
   "cell_type": "code",
   "execution_count": 5,
   "metadata": {},
   "outputs": [
    {
     "data": {
      "text/plain": [
       "11138"
      ]
     },
     "execution_count": 5,
     "metadata": {},
     "output_type": "execute_result"
    }
   ],
   "source": [
    "len(lines)"
   ]
  },
  {
   "cell_type": "code",
   "execution_count": 6,
   "metadata": {},
   "outputs": [
    {
     "data": {
      "text/plain": [
       "'0 1 2 3 4 5 6 7 8 9 10 11 12 13 14 15 16 17 18 19 20 21 22 23 24 25 26 27 28 29 30 31 32 33 34 35 36 37 38 39 40 41 2 42 43 44 45 46 47 48 20 49 8 50 51 52 53 54 55 56 57 25 58 59 60 61 62 3 63 64 65 66 46 47 67 2 48 68 69 70 57 50 71 72 53 73 25 74 59 20 46 75 76 77 59 20 43 '"
      ]
     },
     "execution_count": 6,
     "metadata": {},
     "output_type": "execute_result"
    }
   ],
   "source": [
    "lines[0]"
   ]
  },
  {
   "cell_type": "code",
   "execution_count": 7,
   "metadata": {},
   "outputs": [],
   "source": [
    "playlists = [x.strip().split() for x in lines]"
   ]
  },
  {
   "cell_type": "code",
   "execution_count": 11,
   "metadata": {},
   "outputs": [],
   "source": [
    "# 플레이 리스트가 하나 인거는 제외\n",
    "playlists = [x for x in playlists if len(x) > 1]"
   ]
  },
  {
   "cell_type": "code",
   "execution_count": 9,
   "metadata": {},
   "outputs": [
    {
     "data": {
      "text/plain": [
       "11088"
      ]
     },
     "execution_count": 9,
     "metadata": {},
     "output_type": "execute_result"
    }
   ],
   "source": [
    "len(playlists)"
   ]
  },
  {
   "cell_type": "code",
   "execution_count": 12,
   "metadata": {},
   "outputs": [
    {
     "data": {
      "text/plain": [
       "['0',\n",
       " '1',\n",
       " '2',\n",
       " '3',\n",
       " '4',\n",
       " '5',\n",
       " '6',\n",
       " '7',\n",
       " '8',\n",
       " '9',\n",
       " '10',\n",
       " '11',\n",
       " '12',\n",
       " '13',\n",
       " '14',\n",
       " '15',\n",
       " '16',\n",
       " '17',\n",
       " '18',\n",
       " '19',\n",
       " '20',\n",
       " '21',\n",
       " '22',\n",
       " '23',\n",
       " '24',\n",
       " '25',\n",
       " '26',\n",
       " '27',\n",
       " '28',\n",
       " '29',\n",
       " '30',\n",
       " '31',\n",
       " '32',\n",
       " '33',\n",
       " '34',\n",
       " '35',\n",
       " '36',\n",
       " '37',\n",
       " '38',\n",
       " '39',\n",
       " '40',\n",
       " '41',\n",
       " '2',\n",
       " '42',\n",
       " '43',\n",
       " '44',\n",
       " '45',\n",
       " '46',\n",
       " '47',\n",
       " '48',\n",
       " '20',\n",
       " '49',\n",
       " '8',\n",
       " '50',\n",
       " '51',\n",
       " '52',\n",
       " '53',\n",
       " '54',\n",
       " '55',\n",
       " '56',\n",
       " '57',\n",
       " '25',\n",
       " '58',\n",
       " '59',\n",
       " '60',\n",
       " '61',\n",
       " '62',\n",
       " '3',\n",
       " '63',\n",
       " '64',\n",
       " '65',\n",
       " '66',\n",
       " '46',\n",
       " '47',\n",
       " '67',\n",
       " '2',\n",
       " '48',\n",
       " '68',\n",
       " '69',\n",
       " '70',\n",
       " '57',\n",
       " '50',\n",
       " '71',\n",
       " '72',\n",
       " '53',\n",
       " '73',\n",
       " '25',\n",
       " '74',\n",
       " '59',\n",
       " '20',\n",
       " '46',\n",
       " '75',\n",
       " '76',\n",
       " '77',\n",
       " '59',\n",
       " '20',\n",
       " '43']"
      ]
     },
     "execution_count": 12,
     "metadata": {},
     "output_type": "execute_result"
    }
   ],
   "source": [
    "playlists[0]"
   ]
  },
  {
   "cell_type": "code",
   "execution_count": null,
   "metadata": {},
   "outputs": [],
   "source": []
  },
  {
   "cell_type": "markdown",
   "metadata": {},
   "source": [
    "## Training the Word2Vec Model"
   ]
  },
  {
   "cell_type": "code",
   "execution_count": 13,
   "metadata": {},
   "outputs": [],
   "source": [
    "from gensim.models import Word2Vec"
   ]
  },
  {
   "cell_type": "code",
   "execution_count": 14,
   "metadata": {},
   "outputs": [],
   "source": [
    "model = Word2Vec(\n",
    "    playlists,\n",
    "    vector_size=32,\n",
    "    window=20,\n",
    "    negative=50,\n",
    "    min_count=1,\n",
    "    workers=4,\n",
    ")"
   ]
  },
  {
   "cell_type": "markdown",
   "metadata": {},
   "source": [
    "## Song Title and Artist File"
   ]
  },
  {
   "cell_type": "code",
   "execution_count": 15,
   "metadata": {},
   "outputs": [],
   "source": [
    "url = 'https://storage.googleapis.com/maps-premium/dataset/yes_complete/song_hash.txt'"
   ]
  },
  {
   "cell_type": "code",
   "execution_count": 16,
   "metadata": {},
   "outputs": [],
   "source": [
    "resp = requests.get(url)"
   ]
  },
  {
   "cell_type": "code",
   "execution_count": 17,
   "metadata": {},
   "outputs": [],
   "source": [
    "songs = resp.text.split('\\n')\n",
    "songs = [x.strip().split('\\t') for x in songs]"
   ]
  },
  {
   "cell_type": "code",
   "execution_count": 18,
   "metadata": {},
   "outputs": [
    {
     "data": {
      "text/plain": [
       "[['0 ', 'Gucci Time (w\\\\/ Swizz Beatz)', 'Gucci Mane'],\n",
       " ['1 ', 'Aston Martin Music (w\\\\/ Drake & Chrisette Michelle)', 'Rick Ross'],\n",
       " ['2 ', 'Get Back Up (w\\\\/ Chris Brown)', 'T.I.']]"
      ]
     },
     "execution_count": 18,
     "metadata": {},
     "output_type": "execute_result"
    }
   ],
   "source": [
    "songs[:3]"
   ]
  },
  {
   "cell_type": "code",
   "execution_count": 20,
   "metadata": {},
   "outputs": [],
   "source": [
    "import pandas as pd"
   ]
  },
  {
   "cell_type": "code",
   "execution_count": 21,
   "metadata": {},
   "outputs": [],
   "source": [
    "df_songs = pd.DataFrame(data=songs, columns=['id', 'title', 'artist'])"
   ]
  },
  {
   "cell_type": "code",
   "execution_count": 22,
   "metadata": {},
   "outputs": [],
   "source": [
    "df_songs['id'] = df_songs['id'].str.strip()"
   ]
  },
  {
   "cell_type": "code",
   "execution_count": 23,
   "metadata": {},
   "outputs": [],
   "source": [
    "df_songs = df_songs.set_index('id')"
   ]
  },
  {
   "cell_type": "code",
   "execution_count": 24,
   "metadata": {},
   "outputs": [
    {
     "data": {
      "text/html": [
       "<div>\n",
       "<style scoped>\n",
       "    .dataframe tbody tr th:only-of-type {\n",
       "        vertical-align: middle;\n",
       "    }\n",
       "\n",
       "    .dataframe tbody tr th {\n",
       "        vertical-align: top;\n",
       "    }\n",
       "\n",
       "    .dataframe thead th {\n",
       "        text-align: right;\n",
       "    }\n",
       "</style>\n",
       "<table border=\"1\" class=\"dataframe\">\n",
       "  <thead>\n",
       "    <tr style=\"text-align: right;\">\n",
       "      <th></th>\n",
       "      <th>title</th>\n",
       "      <th>artist</th>\n",
       "    </tr>\n",
       "    <tr>\n",
       "      <th>id</th>\n",
       "      <th></th>\n",
       "      <th></th>\n",
       "    </tr>\n",
       "  </thead>\n",
       "  <tbody>\n",
       "    <tr>\n",
       "      <th>0</th>\n",
       "      <td>Gucci Time (w\\/ Swizz Beatz)</td>\n",
       "      <td>Gucci Mane</td>\n",
       "    </tr>\n",
       "    <tr>\n",
       "      <th>1</th>\n",
       "      <td>Aston Martin Music (w\\/ Drake &amp; Chrisette Mich...</td>\n",
       "      <td>Rick Ross</td>\n",
       "    </tr>\n",
       "    <tr>\n",
       "      <th>2</th>\n",
       "      <td>Get Back Up (w\\/ Chris Brown)</td>\n",
       "      <td>T.I.</td>\n",
       "    </tr>\n",
       "    <tr>\n",
       "      <th>3</th>\n",
       "      <td>Hot Toddy (w\\/ Jay-Z &amp; Ester Dean)</td>\n",
       "      <td>Usher</td>\n",
       "    </tr>\n",
       "    <tr>\n",
       "      <th>4</th>\n",
       "      <td>Whip My Hair</td>\n",
       "      <td>Willow</td>\n",
       "    </tr>\n",
       "    <tr>\n",
       "      <th>...</th>\n",
       "      <td>...</td>\n",
       "      <td>...</td>\n",
       "    </tr>\n",
       "    <tr>\n",
       "      <th>75258</th>\n",
       "      <td>USA Today</td>\n",
       "      <td>Alan Jackson</td>\n",
       "    </tr>\n",
       "    <tr>\n",
       "      <th>75259</th>\n",
       "      <td>Superstar</td>\n",
       "      <td>Raul Malo</td>\n",
       "    </tr>\n",
       "    <tr>\n",
       "      <th>75260</th>\n",
       "      <td>Romancin' The Blues</td>\n",
       "      <td>Giacomo Gates</td>\n",
       "    </tr>\n",
       "    <tr>\n",
       "      <th>75261</th>\n",
       "      <td>Inner Change</td>\n",
       "      <td>The Jazzmasters</td>\n",
       "    </tr>\n",
       "    <tr>\n",
       "      <th></th>\n",
       "      <td>None</td>\n",
       "      <td>None</td>\n",
       "    </tr>\n",
       "  </tbody>\n",
       "</table>\n",
       "<p>75263 rows × 2 columns</p>\n",
       "</div>"
      ],
      "text/plain": [
       "                                                   title           artist\n",
       "id                                                                       \n",
       "0                           Gucci Time (w\\/ Swizz Beatz)       Gucci Mane\n",
       "1      Aston Martin Music (w\\/ Drake & Chrisette Mich...        Rick Ross\n",
       "2                          Get Back Up (w\\/ Chris Brown)             T.I.\n",
       "3                     Hot Toddy (w\\/ Jay-Z & Ester Dean)            Usher\n",
       "4                                           Whip My Hair           Willow\n",
       "...                                                  ...              ...\n",
       "75258                                          USA Today     Alan Jackson\n",
       "75259                                          Superstar        Raul Malo\n",
       "75260                                Romancin' The Blues    Giacomo Gates\n",
       "75261                                       Inner Change  The Jazzmasters\n",
       "                                                    None             None\n",
       "\n",
       "[75263 rows x 2 columns]"
      ]
     },
     "execution_count": 24,
     "metadata": {},
     "output_type": "execute_result"
    }
   ],
   "source": [
    "df_songs"
   ]
  },
  {
   "cell_type": "code",
   "execution_count": 25,
   "metadata": {},
   "outputs": [
    {
     "data": {
      "text/html": [
       "<div>\n",
       "<style scoped>\n",
       "    .dataframe tbody tr th:only-of-type {\n",
       "        vertical-align: middle;\n",
       "    }\n",
       "\n",
       "    .dataframe tbody tr th {\n",
       "        vertical-align: top;\n",
       "    }\n",
       "\n",
       "    .dataframe thead th {\n",
       "        text-align: right;\n",
       "    }\n",
       "</style>\n",
       "<table border=\"1\" class=\"dataframe\">\n",
       "  <thead>\n",
       "    <tr style=\"text-align: right;\">\n",
       "      <th></th>\n",
       "      <th>title</th>\n",
       "      <th>artist</th>\n",
       "    </tr>\n",
       "    <tr>\n",
       "      <th>id</th>\n",
       "      <th></th>\n",
       "      <th></th>\n",
       "    </tr>\n",
       "  </thead>\n",
       "  <tbody>\n",
       "    <tr>\n",
       "      <th>4846</th>\n",
       "      <td>Don't Know Why</td>\n",
       "      <td>Norah Jones</td>\n",
       "    </tr>\n",
       "    <tr>\n",
       "      <th>4896</th>\n",
       "      <td>Chasing Pirates</td>\n",
       "      <td>Norah Jones</td>\n",
       "    </tr>\n",
       "    <tr>\n",
       "      <th>4905</th>\n",
       "      <td>Sunrise</td>\n",
       "      <td>Norah Jones</td>\n",
       "    </tr>\n",
       "    <tr>\n",
       "      <th>4978</th>\n",
       "      <td>Come Away With Me</td>\n",
       "      <td>Norah Jones</td>\n",
       "    </tr>\n",
       "    <tr>\n",
       "      <th>5126</th>\n",
       "      <td>Thinking About You</td>\n",
       "      <td>Norah Jones</td>\n",
       "    </tr>\n",
       "    <tr>\n",
       "      <th>7122</th>\n",
       "      <td>Tell Yer Mama</td>\n",
       "      <td>Norah Jones</td>\n",
       "    </tr>\n",
       "    <tr>\n",
       "      <th>11133</th>\n",
       "      <td>Turn Me On</td>\n",
       "      <td>Norah Jones</td>\n",
       "    </tr>\n",
       "    <tr>\n",
       "      <th>11155</th>\n",
       "      <td>Feelin' The Same Way</td>\n",
       "      <td>Norah Jones</td>\n",
       "    </tr>\n",
       "    <tr>\n",
       "      <th>12981</th>\n",
       "      <td>Be My Somebody</td>\n",
       "      <td>Norah Jones</td>\n",
       "    </tr>\n",
       "    <tr>\n",
       "      <th>13039</th>\n",
       "      <td>It's Gonna Be</td>\n",
       "      <td>Norah Jones</td>\n",
       "    </tr>\n",
       "    <tr>\n",
       "      <th>17893</th>\n",
       "      <td>Back To Manhattan</td>\n",
       "      <td>Norah Jones</td>\n",
       "    </tr>\n",
       "    <tr>\n",
       "      <th>20371</th>\n",
       "      <td>My Blue Heaven</td>\n",
       "      <td>Norah Jones</td>\n",
       "    </tr>\n",
       "    <tr>\n",
       "      <th>20378</th>\n",
       "      <td>The Nearness Of You</td>\n",
       "      <td>Norah Jones</td>\n",
       "    </tr>\n",
       "    <tr>\n",
       "      <th>22858</th>\n",
       "      <td>What Am I To You?</td>\n",
       "      <td>Norah Jones</td>\n",
       "    </tr>\n",
       "    <tr>\n",
       "      <th>23920</th>\n",
       "      <td>Cold Cold Heart</td>\n",
       "      <td>Norah Jones</td>\n",
       "    </tr>\n",
       "    <tr>\n",
       "      <th>23941</th>\n",
       "      <td>Those Sweet Words</td>\n",
       "      <td>Norah Jones</td>\n",
       "    </tr>\n",
       "    <tr>\n",
       "      <th>24064</th>\n",
       "      <td>In The Morning</td>\n",
       "      <td>Norah Jones</td>\n",
       "    </tr>\n",
       "    <tr>\n",
       "      <th>24179</th>\n",
       "      <td>I've Got To See You Again</td>\n",
       "      <td>Norah Jones</td>\n",
       "    </tr>\n",
       "    <tr>\n",
       "      <th>24191</th>\n",
       "      <td>Nightingale</td>\n",
       "      <td>Norah Jones</td>\n",
       "    </tr>\n",
       "    <tr>\n",
       "      <th>24200</th>\n",
       "      <td>Don't Miss You At All</td>\n",
       "      <td>Norah Jones</td>\n",
       "    </tr>\n",
       "    <tr>\n",
       "      <th>24779</th>\n",
       "      <td>American Anthem</td>\n",
       "      <td>Norah Jones</td>\n",
       "    </tr>\n",
       "    <tr>\n",
       "      <th>27367</th>\n",
       "      <td>One Flight Down</td>\n",
       "      <td>Norah Jones</td>\n",
       "    </tr>\n",
       "    <tr>\n",
       "      <th>35749</th>\n",
       "      <td>The Prettiest Thing</td>\n",
       "      <td>Norah Jones</td>\n",
       "    </tr>\n",
       "    <tr>\n",
       "      <th>36570</th>\n",
       "      <td>Not Too Late</td>\n",
       "      <td>Norah Jones</td>\n",
       "    </tr>\n",
       "    <tr>\n",
       "      <th>38858</th>\n",
       "      <td>Even Though</td>\n",
       "      <td>Norah Jones</td>\n",
       "    </tr>\n",
       "    <tr>\n",
       "      <th>46578</th>\n",
       "      <td>Shoot The Moon</td>\n",
       "      <td>Norah Jones</td>\n",
       "    </tr>\n",
       "    <tr>\n",
       "      <th>53276</th>\n",
       "      <td>Man Of The Hour</td>\n",
       "      <td>Norah Jones</td>\n",
       "    </tr>\n",
       "    <tr>\n",
       "      <th>56079</th>\n",
       "      <td>Creepin' In (w\\/ Dolly Parton)</td>\n",
       "      <td>Norah Jones</td>\n",
       "    </tr>\n",
       "    <tr>\n",
       "      <th>56088</th>\n",
       "      <td>Bull Rider (w\\/ Sasha Dobson)</td>\n",
       "      <td>Norah Jones</td>\n",
       "    </tr>\n",
       "    <tr>\n",
       "      <th>58738</th>\n",
       "      <td>The Long Way Home</td>\n",
       "      <td>Norah Jones</td>\n",
       "    </tr>\n",
       "    <tr>\n",
       "      <th>59277</th>\n",
       "      <td>I Think It's Going To Rain Today</td>\n",
       "      <td>Norah Jones</td>\n",
       "    </tr>\n",
       "    <tr>\n",
       "      <th>61848</th>\n",
       "      <td>Wake Me Up</td>\n",
       "      <td>Norah Jones</td>\n",
       "    </tr>\n",
       "    <tr>\n",
       "      <th>70796</th>\n",
       "      <td>Young Blood</td>\n",
       "      <td>Norah Jones</td>\n",
       "    </tr>\n",
       "    <tr>\n",
       "      <th>72009</th>\n",
       "      <td>The Sun Doesn't Like You</td>\n",
       "      <td>Norah Jones</td>\n",
       "    </tr>\n",
       "    <tr>\n",
       "      <th>72574</th>\n",
       "      <td>Stuck</td>\n",
       "      <td>Norah Jones</td>\n",
       "    </tr>\n",
       "    <tr>\n",
       "      <th>73934</th>\n",
       "      <td>Painter Song</td>\n",
       "      <td>Norah Jones</td>\n",
       "    </tr>\n",
       "  </tbody>\n",
       "</table>\n",
       "</div>"
      ],
      "text/plain": [
       "                                  title       artist\n",
       "id                                                  \n",
       "4846                     Don't Know Why  Norah Jones\n",
       "4896                    Chasing Pirates  Norah Jones\n",
       "4905                            Sunrise  Norah Jones\n",
       "4978                  Come Away With Me  Norah Jones\n",
       "5126                 Thinking About You  Norah Jones\n",
       "7122                      Tell Yer Mama  Norah Jones\n",
       "11133                        Turn Me On  Norah Jones\n",
       "11155              Feelin' The Same Way  Norah Jones\n",
       "12981                    Be My Somebody  Norah Jones\n",
       "13039                     It's Gonna Be  Norah Jones\n",
       "17893                 Back To Manhattan  Norah Jones\n",
       "20371                    My Blue Heaven  Norah Jones\n",
       "20378               The Nearness Of You  Norah Jones\n",
       "22858                 What Am I To You?  Norah Jones\n",
       "23920                   Cold Cold Heart  Norah Jones\n",
       "23941                 Those Sweet Words  Norah Jones\n",
       "24064                    In The Morning  Norah Jones\n",
       "24179         I've Got To See You Again  Norah Jones\n",
       "24191                       Nightingale  Norah Jones\n",
       "24200             Don't Miss You At All  Norah Jones\n",
       "24779                   American Anthem  Norah Jones\n",
       "27367                   One Flight Down  Norah Jones\n",
       "35749               The Prettiest Thing  Norah Jones\n",
       "36570                      Not Too Late  Norah Jones\n",
       "38858                       Even Though  Norah Jones\n",
       "46578                    Shoot The Moon  Norah Jones\n",
       "53276                   Man Of The Hour  Norah Jones\n",
       "56079    Creepin' In (w\\/ Dolly Parton)  Norah Jones\n",
       "56088     Bull Rider (w\\/ Sasha Dobson)  Norah Jones\n",
       "58738                 The Long Way Home  Norah Jones\n",
       "59277  I Think It's Going To Rain Today  Norah Jones\n",
       "61848                        Wake Me Up  Norah Jones\n",
       "70796                       Young Blood  Norah Jones\n",
       "72009          The Sun Doesn't Like You  Norah Jones\n",
       "72574                             Stuck  Norah Jones\n",
       "73934                      Painter Song  Norah Jones"
      ]
     },
     "execution_count": 25,
     "metadata": {},
     "output_type": "execute_result"
    }
   ],
   "source": [
    "df_songs[df_songs['artist'] == 'Norah Jones']"
   ]
  },
  {
   "cell_type": "code",
   "execution_count": 26,
   "metadata": {},
   "outputs": [
    {
     "data": {
      "text/html": [
       "<div>\n",
       "<style scoped>\n",
       "    .dataframe tbody tr th:only-of-type {\n",
       "        vertical-align: middle;\n",
       "    }\n",
       "\n",
       "    .dataframe tbody tr th {\n",
       "        vertical-align: top;\n",
       "    }\n",
       "\n",
       "    .dataframe thead th {\n",
       "        text-align: right;\n",
       "    }\n",
       "</style>\n",
       "<table border=\"1\" class=\"dataframe\">\n",
       "  <thead>\n",
       "    <tr style=\"text-align: right;\">\n",
       "      <th></th>\n",
       "      <th>title</th>\n",
       "      <th>artist</th>\n",
       "    </tr>\n",
       "    <tr>\n",
       "      <th>id</th>\n",
       "      <th></th>\n",
       "      <th></th>\n",
       "    </tr>\n",
       "  </thead>\n",
       "  <tbody>\n",
       "    <tr>\n",
       "      <th>1</th>\n",
       "      <td>Aston Martin Music (w\\/ Drake &amp; Chrisette Mich...</td>\n",
       "      <td>Rick Ross</td>\n",
       "    </tr>\n",
       "    <tr>\n",
       "      <th>10</th>\n",
       "      <td>Shake It</td>\n",
       "      <td>Elephant Man</td>\n",
       "    </tr>\n",
       "    <tr>\n",
       "      <th>100</th>\n",
       "      <td>I'm Yours</td>\n",
       "      <td>Jason Mraz</td>\n",
       "    </tr>\n",
       "  </tbody>\n",
       "</table>\n",
       "</div>"
      ],
      "text/plain": [
       "                                                 title        artist\n",
       "id                                                                  \n",
       "1    Aston Martin Music (w\\/ Drake & Chrisette Mich...     Rick Ross\n",
       "10                                            Shake It  Elephant Man\n",
       "100                                          I'm Yours    Jason Mraz"
      ]
     },
     "execution_count": 26,
     "metadata": {},
     "output_type": "execute_result"
    }
   ],
   "source": [
    "df_songs.iloc[[1, 10, 100]]"
   ]
  },
  {
   "cell_type": "code",
   "execution_count": null,
   "metadata": {},
   "outputs": [],
   "source": []
  },
  {
   "cell_type": "markdown",
   "metadata": {},
   "source": [
    "### Recommend similar songs"
   ]
  },
  {
   "cell_type": "code",
   "execution_count": 27,
   "metadata": {},
   "outputs": [],
   "source": [
    "song_id = '4846'"
   ]
  },
  {
   "cell_type": "code",
   "execution_count": 28,
   "metadata": {},
   "outputs": [
    {
     "data": {
      "text/plain": [
       "title     Don't Know Why\n",
       "artist       Norah Jones\n",
       "Name: 4846, dtype: object"
      ]
     },
     "execution_count": 28,
     "metadata": {},
     "output_type": "execute_result"
    }
   ],
   "source": [
    "df_songs.loc[song_id]"
   ]
  },
  {
   "cell_type": "code",
   "execution_count": 29,
   "metadata": {},
   "outputs": [
    {
     "data": {
      "text/plain": [
       "[('5260', 0.9912316799163818),\n",
       " ('3742', 0.9906894564628601),\n",
       " ('5219', 0.989006519317627),\n",
       " ('3938', 0.9888371825218201),\n",
       " ('3856', 0.9886481761932373),\n",
       " ('8405', 0.9849908947944641),\n",
       " ('3985', 0.9831902980804443),\n",
       " ('4896', 0.9830371737480164),\n",
       " ('8379', 0.9825888276100159),\n",
       " ('4987', 0.9809603691101074)]"
      ]
     },
     "execution_count": 29,
     "metadata": {},
     "output_type": "execute_result"
    }
   ],
   "source": [
    "similars = model.wv.most_similar(positive=song_id)\n",
    "similars"
   ]
  },
  {
   "cell_type": "code",
   "execution_count": 30,
   "metadata": {},
   "outputs": [],
   "source": [
    "import numpy as np"
   ]
  },
  {
   "cell_type": "code",
   "execution_count": 31,
   "metadata": {},
   "outputs": [],
   "source": [
    "similar_ids = np.array(similars)[:,0]"
   ]
  },
  {
   "cell_type": "code",
   "execution_count": 32,
   "metadata": {},
   "outputs": [
    {
     "data": {
      "text/html": [
       "<div>\n",
       "<style scoped>\n",
       "    .dataframe tbody tr th:only-of-type {\n",
       "        vertical-align: middle;\n",
       "    }\n",
       "\n",
       "    .dataframe tbody tr th {\n",
       "        vertical-align: top;\n",
       "    }\n",
       "\n",
       "    .dataframe thead th {\n",
       "        text-align: right;\n",
       "    }\n",
       "</style>\n",
       "<table border=\"1\" class=\"dataframe\">\n",
       "  <thead>\n",
       "    <tr style=\"text-align: right;\">\n",
       "      <th></th>\n",
       "      <th>title</th>\n",
       "      <th>artist</th>\n",
       "    </tr>\n",
       "    <tr>\n",
       "      <th>id</th>\n",
       "      <th></th>\n",
       "      <th></th>\n",
       "    </tr>\n",
       "  </thead>\n",
       "  <tbody>\n",
       "    <tr>\n",
       "      <th>5260</th>\n",
       "      <td>White Flag</td>\n",
       "      <td>Dido</td>\n",
       "    </tr>\n",
       "    <tr>\n",
       "      <th>3742</th>\n",
       "      <td>I.G.Y.</td>\n",
       "      <td>Donald Fagen</td>\n",
       "    </tr>\n",
       "    <tr>\n",
       "      <th>5219</th>\n",
       "      <td>Fly Like An Eagle</td>\n",
       "      <td>Seal</td>\n",
       "    </tr>\n",
       "    <tr>\n",
       "      <th>3938</th>\n",
       "      <td>Missing</td>\n",
       "      <td>Everything But The Girl</td>\n",
       "    </tr>\n",
       "    <tr>\n",
       "      <th>3856</th>\n",
       "      <td>It Ain't Over 'til It's Over</td>\n",
       "      <td>Lenny Kravitz</td>\n",
       "    </tr>\n",
       "    <tr>\n",
       "      <th>8405</th>\n",
       "      <td>Angel</td>\n",
       "      <td>Sarah McLachlan</td>\n",
       "    </tr>\n",
       "    <tr>\n",
       "      <th>3985</th>\n",
       "      <td>Thank You</td>\n",
       "      <td>Dido</td>\n",
       "    </tr>\n",
       "    <tr>\n",
       "      <th>4896</th>\n",
       "      <td>Chasing Pirates</td>\n",
       "      <td>Norah Jones</td>\n",
       "    </tr>\n",
       "    <tr>\n",
       "      <th>8379</th>\n",
       "      <td>True</td>\n",
       "      <td>Spandau Ballet</td>\n",
       "    </tr>\n",
       "    <tr>\n",
       "      <th>4987</th>\n",
       "      <td>Deacon Blues</td>\n",
       "      <td>Steely Dan</td>\n",
       "    </tr>\n",
       "  </tbody>\n",
       "</table>\n",
       "</div>"
      ],
      "text/plain": [
       "                             title                   artist\n",
       "id                                                         \n",
       "5260                    White Flag                     Dido\n",
       "3742                        I.G.Y.             Donald Fagen\n",
       "5219             Fly Like An Eagle                     Seal\n",
       "3938                       Missing  Everything But The Girl\n",
       "3856  It Ain't Over 'til It's Over            Lenny Kravitz\n",
       "8405                         Angel          Sarah McLachlan\n",
       "3985                     Thank You                     Dido\n",
       "4896               Chasing Pirates              Norah Jones\n",
       "8379                          True           Spandau Ballet\n",
       "4987                  Deacon Blues               Steely Dan"
      ]
     },
     "execution_count": 32,
     "metadata": {},
     "output_type": "execute_result"
    }
   ],
   "source": [
    "df_songs.loc[similar_ids]"
   ]
  },
  {
   "cell_type": "markdown",
   "metadata": {},
   "source": [
    "### Recommendation algorithms\n",
    "\n",
    "* Content-based filtering\n",
    "* Collaborative filtering <= Word2Vec"
   ]
  },
  {
   "cell_type": "markdown",
   "metadata": {},
   "source": []
  }
 ],
 "metadata": {
  "kernelspec": {
   "display_name": "Python 3",
   "language": "python",
   "name": "python3"
  },
  "language_info": {
   "codemirror_mode": {
    "name": "ipython",
    "version": 3
   },
   "file_extension": ".py",
   "mimetype": "text/x-python",
   "name": "python",
   "nbconvert_exporter": "python",
   "pygments_lexer": "ipython3",
   "version": "3.11.4"
  },
  "orig_nbformat": 4
 },
 "nbformat": 4,
 "nbformat_minor": 2
}
