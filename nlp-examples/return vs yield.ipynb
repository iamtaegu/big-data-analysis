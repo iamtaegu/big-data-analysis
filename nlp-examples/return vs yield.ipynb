{
 "cells": [
  {
   "cell_type": "markdown",
   "metadata": {},
   "source": [
    "## Return (List) vs Yield (Generator)"
   ]
  },
  {
   "cell_type": "code",
   "execution_count": 2,
   "metadata": {},
   "outputs": [],
   "source": [
    "def func1():\n",
    "    buffer = []\n",
    "\n",
    "    for i in range(3):\n",
    "        print(\"hello\")\n",
    "        buffer.append(i)\n",
    "        \n",
    "    return buffer "
   ]
  },
  {
   "cell_type": "code",
   "execution_count": 4,
   "metadata": {},
   "outputs": [
    {
     "name": "stdout",
     "output_type": "stream",
     "text": [
      "hello\n",
      "hello\n",
      "hello\n",
      "0\n",
      "1\n",
      "2\n"
     ]
    }
   ],
   "source": [
    "for x in func1():\n",
    "    print(x)"
   ]
  },
  {
   "cell_type": "markdown",
   "metadata": {},
   "source": [
    "### Generator - Lazy Evaluation \n",
    "\n",
    "* 위에서 목록(List)를 먼저 만들고 반환을 주는 것과는 달리\n",
    "* Generator는 먼저 만들지 않음(= buffer를 생성해 반환하지 않음) \n",
    "    * yield에서 일시 정지하고, 다음 값을 요청 받을 때 실행이 되는 형태\n",
    "    * 값을 요청 받을 때마다 실행이 되면서 빅데이터를 처리할 때 메모리를 효율적으로 사용할 수 있음\n"
   ]
  },
  {
   "cell_type": "code",
   "execution_count": 5,
   "metadata": {},
   "outputs": [],
   "source": [
    "def func2():\n",
    "    for i in range(3):\n",
    "        print('hello')\n",
    "        yield i "
   ]
  },
  {
   "cell_type": "code",
   "execution_count": 6,
   "metadata": {},
   "outputs": [
    {
     "name": "stdout",
     "output_type": "stream",
     "text": [
      "hello\n",
      "0\n",
      "hello\n",
      "1\n",
      "hello\n",
      "2\n"
     ]
    }
   ],
   "source": [
    "for x in func2():\n",
    "    print(x)"
   ]
  },
  {
   "cell_type": "code",
   "execution_count": null,
   "metadata": {},
   "outputs": [],
   "source": []
  },
  {
   "cell_type": "code",
   "execution_count": null,
   "metadata": {},
   "outputs": [],
   "source": []
  },
  {
   "cell_type": "code",
   "execution_count": null,
   "metadata": {},
   "outputs": [],
   "source": []
  }
 ],
 "metadata": {
  "kernelspec": {
   "display_name": "Python 3",
   "language": "python",
   "name": "python3"
  },
  "language_info": {
   "codemirror_mode": {
    "name": "ipython",
    "version": 3
   },
   "file_extension": ".py",
   "mimetype": "text/x-python",
   "name": "python",
   "nbconvert_exporter": "python",
   "pygments_lexer": "ipython3",
   "version": "3.11.4"
  },
  "orig_nbformat": 4
 },
 "nbformat": 4,
 "nbformat_minor": 2
}
